{
 "cells": [
  {
   "cell_type": "code",
   "execution_count": 1,
   "id": "2ef6981e",
   "metadata": {
    "_cell_guid": "b1076dfc-b9ad-4769-8c92-a6c4dae69d19",
    "_uuid": "8f2839f25d086af736a60e9eeb907d3b93b6e0e5",
    "execution": {
     "iopub.execute_input": "2024-09-12T11:35:44.161650Z",
     "iopub.status.busy": "2024-09-12T11:35:44.161259Z",
     "iopub.status.idle": "2024-09-12T11:35:58.676037Z",
     "shell.execute_reply": "2024-09-12T11:35:58.675076Z"
    },
    "papermill": {
     "duration": 14.524168,
     "end_time": "2024-09-12T11:35:58.678259",
     "exception": false,
     "start_time": "2024-09-12T11:35:44.154091",
     "status": "completed"
    },
    "tags": []
   },
   "outputs": [
    {
     "name": "stdout",
     "output_type": "stream",
     "text": [
      "Imports Complete\n"
     ]
    }
   ],
   "source": [
    "# Basic Libraries\n",
    "import os\n",
    "import shutil\n",
    "import random\n",
    "import numpy as np\n",
    "import pandas as pd\n",
    "\n",
    "# Image Processing\n",
    "import cv2\n",
    "from PIL import Image, ImageEnhance\n",
    "from skimage.util import random_noise\n",
    "\n",
    "# Visualization\n",
    "import matplotlib.pyplot as plt\n",
    "import seaborn as sns\n",
    "from tqdm import tqdm\n",
    "\n",
    "# TensorFlow and Keras for Deep Learning\n",
    "import tensorflow as tf\n",
    "from tensorflow.keras.preprocessing.image import ImageDataGenerator\n",
    "from tensorflow.keras.layers import Attention, Add, Dense, GlobalAveragePooling2D, Input\n",
    "from tensorflow.keras.models import Model\n",
    "from tensorflow.keras.optimizers import Adam, RMSprop\n",
    "from tensorflow.keras.callbacks import ModelCheckpoint\n",
    "from tensorflow.keras import layers\n",
    "from tensorflow.keras.models import load_model, Sequential\n",
    "\n",
    "# Scikit-learn for Model Preparation\n",
    "from sklearn.utils import resample\n",
    "from sklearn.model_selection import train_test_split\n",
    "\n",
    "# Additional Libraries for Image Handling and File Operations\n",
    "import glob\n",
    "from glob import glob\n",
    "import matplotlib.image as mpimg\n",
    "import pydicom\n",
    "\n",
    "from tensorflow.keras import layers\n",
    "from tensorflow.keras.models import load_model, Sequential\n",
    "\n",
    "\n",
    "print(\"Imports Complete\")"
   ]
  },
  {
   "cell_type": "code",
   "execution_count": 2,
   "id": "b99a10e4",
   "metadata": {
    "execution": {
     "iopub.execute_input": "2024-09-12T11:35:58.690814Z",
     "iopub.status.busy": "2024-09-12T11:35:58.689980Z",
     "iopub.status.idle": "2024-09-12T11:35:58.862390Z",
     "shell.execute_reply": "2024-09-12T11:35:58.861369Z"
    },
    "papermill": {
     "duration": 0.180899,
     "end_time": "2024-09-12T11:35:58.864728",
     "exception": false,
     "start_time": "2024-09-12T11:35:58.683829",
     "status": "completed"
    },
    "tags": []
   },
   "outputs": [],
   "source": [
    "# Load datasets\n",
    "df_train = pd.read_csv(\"/kaggle/input/rsna-2024-lumbar-spine-degenerative-classification/train.csv\")\n",
    "df_train_series_descriptions = pd.read_csv(\"/kaggle/input/rsna-2024-lumbar-spine-degenerative-classification/train_series_descriptions.csv\")\n",
    "df_label_coord = pd.read_csv(\"/kaggle/input/rsna-2024-lumbar-spine-degenerative-classification/train_label_coordinates.csv\")\n",
    "#df_train_imagess = pd.read_csv(\"/kaggle/working/df_png_paths.csv\")\n",
    "\n",
    "# Load datasets\n",
    "df_test_series_descriptions = pd.read_csv(\"/kaggle/input/rsna-2024-lumbar-spine-degenerative-classification/test_series_descriptions.csv\")\n",
    "#df_train_imagess = pd.read_csv(\"/kaggle/working/df_png_paths.csv\")\n",
    "\n",
    "# Output Paths\n",
    "output_path = '/kaggle/working/train_images'\n",
    "# Define the directory where your augmented images are saved\n",
    "augmented_images_dir = '/kaggle/working/augmented_images'\n",
    "\n",
    "# Path to the input and output directories\n",
    "input_path = '/kaggle/input/rsna-2024-lumbar-spine-degenerative-classification/train_images/'\n",
    "test_input_path= '/kaggle/input/rsna-2024-lumbar-spine-degenerative-classification/test_images/'\n"
   ]
  },
  {
   "cell_type": "code",
   "execution_count": 3,
   "id": "36fc54a3",
   "metadata": {
    "execution": {
     "iopub.execute_input": "2024-09-12T11:35:58.876835Z",
     "iopub.status.busy": "2024-09-12T11:35:58.876502Z",
     "iopub.status.idle": "2024-09-12T11:35:59.321511Z",
     "shell.execute_reply": "2024-09-12T11:35:59.320646Z"
    },
    "papermill": {
     "duration": 0.4537,
     "end_time": "2024-09-12T11:35:59.323880",
     "exception": false,
     "start_time": "2024-09-12T11:35:58.870180",
     "status": "completed"
    },
    "tags": []
   },
   "outputs": [
    {
     "data": {
      "text/html": [
       "<div>\n",
       "<style scoped>\n",
       "    .dataframe tbody tr th:only-of-type {\n",
       "        vertical-align: middle;\n",
       "    }\n",
       "\n",
       "    .dataframe tbody tr th {\n",
       "        vertical-align: top;\n",
       "    }\n",
       "\n",
       "    .dataframe thead th {\n",
       "        text-align: right;\n",
       "    }\n",
       "</style>\n",
       "<table border=\"1\" class=\"dataframe\">\n",
       "  <thead>\n",
       "    <tr style=\"text-align: right;\">\n",
       "      <th></th>\n",
       "      <th>study_id</th>\n",
       "      <th>series_id</th>\n",
       "      <th>series_description</th>\n",
       "      <th>instance_number</th>\n",
       "      <th>condition</th>\n",
       "      <th>level</th>\n",
       "      <th>x</th>\n",
       "      <th>y</th>\n",
       "      <th>image_path</th>\n",
       "      <th>severity</th>\n",
       "    </tr>\n",
       "  </thead>\n",
       "  <tbody>\n",
       "    <tr>\n",
       "      <th>26980</th>\n",
       "      <td>2427774074</td>\n",
       "      <td>3668699449</td>\n",
       "      <td>Sagittal T1</td>\n",
       "      <td>13</td>\n",
       "      <td>Right Neural Foraminal Narrowing</td>\n",
       "      <td>L2/L3</td>\n",
       "      <td>124.583333</td>\n",
       "      <td>114.666667</td>\n",
       "      <td>/kaggle/input/rsna-2024-lumbar-spine-degenerat...</td>\n",
       "      <td>Moderate</td>\n",
       "    </tr>\n",
       "  </tbody>\n",
       "</table>\n",
       "</div>"
      ],
      "text/plain": [
       "         study_id   series_id series_description  instance_number  \\\n",
       "26980  2427774074  3668699449        Sagittal T1               13   \n",
       "\n",
       "                              condition  level           x           y  \\\n",
       "26980  Right Neural Foraminal Narrowing  L2/L3  124.583333  114.666667   \n",
       "\n",
       "                                              image_path  severity  \n",
       "26980  /kaggle/input/rsna-2024-lumbar-spine-degenerat...  Moderate  "
      ]
     },
     "execution_count": 3,
     "metadata": {},
     "output_type": "execute_result"
    }
   ],
   "source": [
    "# Create image paths\n",
    "df_label_coord['image_path'] = \"/kaggle/input/rsna-2024-lumbar-spine-degenerative-classification/train_images/\" + \\\n",
    "                               df_label_coord['study_id'].astype(str) + \"/\" + \\\n",
    "                               df_label_coord['series_id'].astype(str) + \"/\" + \\\n",
    "                               df_label_coord['instance_number'].astype(str) + \".dcm\"\n",
    "\n",
    "# Melt the df_train DataFrame\n",
    "df_train_melted = df_train.melt(id_vars=['study_id'], var_name='condition_level', value_name='severity')\n",
    "\n",
    "# Split 'condition_level' to extract 'condition' and 'level'\n",
    "df_train_melted[['conditions', 'level']] = df_train_melted['condition_level'].str.rsplit('_', n=2, expand=True).iloc[:, 1:]\n",
    "df_train_melted['condition'] = df_train_melted['condition_level'].apply(lambda x: '_'.join(x.split('_')[:-2])).str.replace(\"_\", \" \").str.title()\n",
    "df_train_melted['level'] = df_train_melted['conditions'].str.upper() + \"/\" + df_train_melted['level'].str.upper()\n",
    "\n",
    "# Drop the original 'condition_level' column\n",
    "df_train_melted = df_train_melted.drop(columns=['condition_level', 'conditions'])\n",
    "\n",
    "# Merge DataFrames on 'study_id', 'level', and 'condition'\n",
    "df_final = pd.merge(df_label_coord, df_train_melted, on=['study_id', 'level', 'condition'], how='inner')\n",
    "\n",
    "# Ensure the 'series_description' column exists before trying to reorder\n",
    "if 'series_description' in df_train_series_descriptions.columns:\n",
    "    # Merge df_final with df_train_series_descriptions on 'study_id' and 'series_id'\n",
    "    df_final_filtered = pd.merge(df_final, df_train_series_descriptions[['study_id', 'series_id', 'series_description']],\n",
    "                                 on=['study_id', 'series_id'], how='left')\n",
    "\n",
    "    # Reorder columns to place 'series_description' immediately after 'series_id'\n",
    "    columns_order = ['study_id', 'series_id', 'series_description', 'instance_number', 'condition', 'level', 'x', 'y', 'image_path', 'severity']\n",
    "    \n",
    "    # Ensure that 'series_description' exists in the DataFrame before reordering columns\n",
    "    if 'series_description' in df_final_filtered.columns:\n",
    "        df_final_filtered = df_final_filtered[columns_order]\n",
    "    else:\n",
    "        print(\"Warning: 'series_description' column not found after merging.\")\n",
    "else:\n",
    "    print(\"Warning: 'series_description' column not found in the input data.\")\n",
    "    \n",
    "df_final_filtered.sample()"
   ]
  },
  {
   "cell_type": "code",
   "execution_count": 4,
   "id": "b9b00248",
   "metadata": {
    "execution": {
     "iopub.execute_input": "2024-09-12T11:35:59.341008Z",
     "iopub.status.busy": "2024-09-12T11:35:59.340575Z",
     "iopub.status.idle": "2024-09-12T11:46:28.456965Z",
     "shell.execute_reply": "2024-09-12T11:46:28.455941Z"
    },
    "papermill": {
     "duration": 629.129643,
     "end_time": "2024-09-12T11:46:28.459119",
     "exception": false,
     "start_time": "2024-09-12T11:35:59.329476",
     "status": "completed"
    },
    "tags": []
   },
   "outputs": [
    {
     "name": "stderr",
     "output_type": "stream",
     "text": [
      "  0%|          | 0/24546 [00:00<?, ?it/s]/tmp/ipykernel_24/3440978783.py:48: FutureWarning: The behavior of DataFrame concatenation with empty or all-NA entries is deprecated. In a future version, this will no longer exclude empty or all-NA columns when determining the result dtypes. To retain the old behavior, exclude the relevant entries before the concat operation.\n",
      "  df_png_paths = pd.concat([df_png_paths, pd.DataFrame([new_row])], ignore_index=True)\n",
      "100%|██████████| 24546/24546 [10:28<00:00, 39.04it/s]\n"
     ]
    },
    {
     "name": "stdout",
     "output_type": "stream",
     "text": [
      "Conversion to PNG completed.\n",
      "Dataframe saved.\n"
     ]
    }
   ],
   "source": [
    "# Path to the output directory\n",
    "output_path = '/kaggle/working/train_images/'\n",
    "\n",
    "# Function to convert DICOM pixel array to PNG\n",
    "def readdcm_writepng_image(src_dicom_pixelarray, dest_path_png):\n",
    "    src_dicom_pixelarray = np.array(src_dicom_pixelarray)\n",
    "    standardized_image_data = ((src_dicom_pixelarray - src_dicom_pixelarray.min()) / \n",
    "                               (src_dicom_pixelarray.max() - src_dicom_pixelarray.min() + 1e-10)) * 255\n",
    "    standardized_image_data = standardized_image_data.astype(np.uint8)\n",
    "    final_image_to_png = cv2.resize(standardized_image_data, (320, 320), interpolation=cv2.INTER_CUBIC)\n",
    "    cv2.imwrite(dest_path_png, final_image_to_png)\n",
    "\n",
    "# Remove previous output directory for fresh writing\n",
    "if os.path.isdir(output_path):\n",
    "    shutil.rmtree(output_path)\n",
    "\n",
    "# Drop duplicates based on 'image_path' to ensure each image is converted only once\n",
    "unique_images_df = df_final_filtered.drop_duplicates(subset='image_path')\n",
    "\n",
    "# Create a new DataFrame to store paths to the converted images\n",
    "df_png_paths = pd.DataFrame(columns=df_final_filtered.columns)\n",
    "\n",
    "# Convert only unique labeled images\n",
    "for index, row in tqdm(unique_images_df.iterrows(), total=len(unique_images_df)):\n",
    "    study_id = row['study_id']\n",
    "    # Apply the replacement to series_description\n",
    "    series_description = row['series_description'].replace(' ', '_').replace('/', '_')\n",
    "    instance_number = row['instance_number']\n",
    "    \n",
    "    # Construct the destination path for the PNG file\n",
    "    dest_path = f'{output_path}/{study_id}/{series_description}/{instance_number}.png'\n",
    "    \n",
    "    # Ensure directory exists\n",
    "    os.makedirs(os.path.dirname(dest_path), exist_ok=True)\n",
    "    \n",
    "    # Read the DICOM image and convert it to PNG\n",
    "    dicom_image = pydicom.dcmread(row['image_path'])\n",
    "    readdcm_writepng_image(dicom_image.pixel_array, dest_path)\n",
    "    \n",
    "    # Copy the row and update the image path to the new PNG path\n",
    "    new_row = row.copy()\n",
    "    new_row['image_path'] = dest_path\n",
    "    \n",
    "    # Replace series_description in the new_row DataFrame\n",
    "    new_row['series_description'] = series_description\n",
    "    \n",
    "    # Append the new row to the new DataFrame using pd.concat\n",
    "    df_png_paths = pd.concat([df_png_paths, pd.DataFrame([new_row])], ignore_index=True)\n",
    "\n",
    "print(\"Conversion to PNG completed.\")\n",
    "\n",
    "# Save the new DataFrame to a CSV file (optional)\n",
    "df_png_paths.to_csv('/kaggle/working/df_png_paths.csv', index=False)\n",
    "\n",
    "\n",
    "print(\"Dataframe saved.\")"
   ]
  },
  {
   "cell_type": "code",
   "execution_count": 5,
   "id": "8d57c568",
   "metadata": {
    "execution": {
     "iopub.execute_input": "2024-09-12T11:46:29.226292Z",
     "iopub.status.busy": "2024-09-12T11:46:29.225895Z",
     "iopub.status.idle": "2024-09-12T11:48:46.056333Z",
     "shell.execute_reply": "2024-09-12T11:48:46.055229Z"
    },
    "papermill": {
     "duration": 137.206255,
     "end_time": "2024-09-12T11:48:46.058455",
     "exception": false,
     "start_time": "2024-09-12T11:46:28.852200",
     "status": "completed"
    },
    "tags": []
   },
   "outputs": [
    {
     "name": "stderr",
     "output_type": "stream",
     "text": [
      "/opt/conda/lib/python3.10/site-packages/albumentations/check_version.py:49: UserWarning: Error fetching version info <urlopen error [Errno -3] Temporary failure in name resolution>\n",
      "  data = fetch_version_info()\n",
      "100%|██████████| 5418/5418 [01:54<00:00, 47.29it/s]\n"
     ]
    },
    {
     "name": "stdout",
     "output_type": "stream",
     "text": [
      "Total processed images: 31494\n"
     ]
    }
   ],
   "source": [
    "from concurrent.futures import ThreadPoolExecutor\n",
    "from albumentations import (\n",
    "    HorizontalFlip, VerticalFlip, Rotate, RandomBrightnessContrast,\n",
    "    ColorJitter, GridDistortion, RandomGamma, GaussNoise, Compose,\n",
    "    CLAHE, Solarize, Posterize, ShiftScaleRotate, ElasticTransform,\n",
    "    ToGray, HueSaturationValue\n",
    ")\n",
    "\n",
    "# Step 1: Initialise Paths\n",
    "df_converted_data = pd.read_csv(\"/kaggle/working/df_png_paths.csv\")\n",
    "output_images_dir = '/kaggle/working/augmented_images'\n",
    "csv_output_path = '/kaggle/working/df_augmented_final.csv'\n",
    "\n",
    "# Ensure output directory exists\n",
    "os.makedirs(output_images_dir, exist_ok=True)\n",
    "\n",
    "# Step 2: Assume df_png_paths is already defined with the necessary data\n",
    "# You need to format the series_description\n",
    "df_augmented = df_png_paths.copy()\n",
    "df_augmented['series_description'] = df_augmented['series_description'].str.replace(r'[ /]', '_', regex=True)\n",
    "\n",
    "# Step 3: Define color map augmentation functions\n",
    "def apply_color_map(image, colormap):\n",
    "    return cv2.applyColorMap(image, colormap)\n",
    "\n",
    "# Step 4: Define augmentation techniques\n",
    "albumentations_augmentations = [\n",
    "    Compose([Rotate(limit=90), HorizontalFlip()]),\n",
    "    Compose([Rotate(limit=180)]),\n",
    "    Compose([Rotate(limit=270), HorizontalFlip()]),\n",
    "    Compose([ColorJitter(brightness=0.2, contrast=0.2, saturation=0.2, hue=0.2)]),\n",
    "    Compose([GaussNoise(), VerticalFlip()]),\n",
    "    Compose([GridDistortion()]),\n",
    "    Compose([ShiftScaleRotate(shift_limit=0.05, scale_limit=0.1, rotate_limit=15)]),\n",
    "    Compose([ElasticTransform(alpha=1, sigma=50, alpha_affine=None)]),  # Updated line\n",
    "    Compose([CLAHE(), HueSaturationValue(hue_shift_limit=20, sat_shift_limit=30, val_shift_limit=20)]),\n",
    "    Compose([Solarize(threshold=128.0), Posterize(num_bits=4)]),\n",
    "    Compose([ToGray()])\n",
    "]\n",
    "\n",
    "color_map_augmentations = [\n",
    "    (cv2.COLORMAP_VIRIDIS, 'viridis'),\n",
    "    (cv2.COLORMAP_PLASMA, 'plasma'),\n",
    "    (cv2.COLORMAP_INFERNO, 'inferno'),\n",
    "    (cv2.COLORMAP_MAGMA, 'magma'),\n",
    "]\n",
    "\n",
    "# Combine all augmentations into one list\n",
    "all_augmentations = albumentations_augmentations + color_map_augmentations\n",
    "\n",
    "# Define how many times to augment each image for Moderate and Severe classes\n",
    "num_augmentations_per_image_severe = 10 # Augment each 'Severe' image 6 times\n",
    "num_augmentations_per_image_moderate = 4  # Augment each 'Moderate' image 1 time\n",
    "\n",
    "def augment_image(row):\n",
    "    image_path = row['image_path']\n",
    "    image = cv2.imread(image_path)  # Load the image using OpenCV\n",
    "\n",
    "    # Check if the image was loaded successfully\n",
    "    if image is None:\n",
    "        print(f\"Warning: Unable to load image at path: {image_path}\")\n",
    "        return []  # Return an empty list if the image could not be loaded\n",
    "\n",
    "    coords = [row['x'], row['y']]  # Extract coordinates\n",
    "    augmented_images = []  # Store augmented images for this row\n",
    "    image_height, image_width = image.shape[:2]\n",
    "\n",
    "    # Determine the number of augmentations based on severity\n",
    "    if row['severity'] == 'Severe':\n",
    "        num_augmentations = num_augmentations_per_image_severe\n",
    "    elif row['severity'] == 'Moderate':\n",
    "        num_augmentations = num_augmentations_per_image_moderate\n",
    "    else:\n",
    "        return []  # Skip if severity is not 'Moderate' or 'Severe'\n",
    "\n",
    "    for _ in range(num_augmentations):\n",
    "        # Choose an augmentation\n",
    "        aug_index = np.random.choice(len(all_augmentations))\n",
    "        aug = all_augmentations[aug_index]\n",
    "\n",
    "        try:\n",
    "            if isinstance(aug, tuple):\n",
    "                # Apply the color map augmentation\n",
    "                colormap, name = aug\n",
    "                image_aug = apply_color_map(image, colormap)\n",
    "                aug_name = name  # Use the color map name directly\n",
    "            else:\n",
    "                # Apply the Albumentations augmentation\n",
    "                augmented = aug(image=image)\n",
    "                image_aug = augmented['image']\n",
    "\n",
    "                # Get the augmentation names\n",
    "                aug_name = '_'.join([type(t).__name__ for t in aug.transforms])\n",
    "\n",
    "                # Update coordinates based on the applied transformations\n",
    "                for t in aug.transforms:\n",
    "                    if isinstance(t, HorizontalFlip):\n",
    "                        coords[0] = image_width - coords[0]\n",
    "                    if isinstance(t, VerticalFlip):\n",
    "                        coords[1] = image_height - coords[1]\n",
    "                    if isinstance(t, Rotate):\n",
    "                        angle = t.limit if isinstance(t.limit, (int, float)) else t.limit[1]\n",
    "                        if angle == 90:\n",
    "                            coords = [coords[1], image_width - coords[0]]\n",
    "                        elif angle == 180:\n",
    "                            coords = [image_width - coords[0], image_height - coords[1]]\n",
    "                        elif angle == 270:\n",
    "                            coords = [image_height - coords[1], coords[0]]\n",
    "\n",
    "            # Create subfolder structure\n",
    "            study_id = row['study_id']\n",
    "            series_id = row['series_id']\n",
    "            series_description = row['series_description'].replace(' ', '_')  # Replace spaces with underscores\n",
    "            output_subfolder = os.path.join(output_images_dir, str(study_id), series_description)\n",
    "            os.makedirs(output_subfolder, exist_ok=True)\n",
    "\n",
    "            # Generate new file name with the augmentation name and instance number\n",
    "            instance_number = row['instance_number']\n",
    "            augmented_image_path = os.path.join(output_subfolder, f\"{aug_name}_{instance_number}.png\")\n",
    "\n",
    "            # Save the augmented image\n",
    "            cv2.imwrite(augmented_image_path, image_aug)\n",
    "\n",
    "            augmented_images.append({\n",
    "                'study_id': study_id,\n",
    "                'series_id': series_id,\n",
    "                'series_description': series_description,\n",
    "                'instance_number': instance_number,\n",
    "                'x': coords[0],\n",
    "                'y': coords[1],\n",
    "                'condition': row['condition'],\n",
    "                'level': row['level'],\n",
    "                'image_path': augmented_image_path,\n",
    "                'severity': row['severity']\n",
    "            })\n",
    "        except Exception as e:\n",
    "            print(f\"Error processing image {image_path}: {e}\")\n",
    "\n",
    "    return augmented_images\n",
    "\n",
    "\n",
    "# Step 7: Filter only Moderate and Severe classes for augmentation\n",
    "df_filtered = df_augmented[df_augmented['severity'].isin(['Moderate', 'Severe'])]\n",
    "\n",
    "# Step 8: Use parallel processing to augment images\n",
    "augmented_data = []\n",
    "\n",
    "with ThreadPoolExecutor() as executor:\n",
    "    results = list(tqdm(executor.map(augment_image, [row for _, row in df_filtered.iterrows()]), total=len(df_filtered)))\n",
    "\n",
    "# Flatten the results and filter out None values\n",
    "augmented_data = [item for sublist in results for item in sublist if item is not None]\n",
    "\n",
    "# Step 9: Collect the results into a DataFrame\n",
    "df_augmented_final = pd.DataFrame(augmented_data)\n",
    "\n",
    "# Save the augmented DataFrame to a CSV file\n",
    "df_augmented_final.to_csv(csv_output_path, index=False)\n",
    "\n",
    "print(f\"Total processed images: {len(augmented_data)}\")\n"
   ]
  },
  {
   "cell_type": "code",
   "execution_count": 6,
   "id": "8023482b",
   "metadata": {
    "execution": {
     "iopub.execute_input": "2024-09-12T11:48:47.045116Z",
     "iopub.status.busy": "2024-09-12T11:48:47.044357Z",
     "iopub.status.idle": "2024-09-12T11:48:47.059687Z",
     "shell.execute_reply": "2024-09-12T11:48:47.058649Z"
    },
    "papermill": {
     "duration": 0.518721,
     "end_time": "2024-09-12T11:48:47.061710",
     "exception": false,
     "start_time": "2024-09-12T11:48:46.542989",
     "status": "completed"
    },
    "tags": []
   },
   "outputs": [
    {
     "data": {
      "text/plain": [
       "severity\n",
       "Normal/Mild    19108\n",
       "Moderate        3781\n",
       "Severe          1637\n",
       "Name: count, dtype: int64"
      ]
     },
     "execution_count": 6,
     "metadata": {},
     "output_type": "execute_result"
    }
   ],
   "source": [
    "df_png_paths[\"severity\"].value_counts()"
   ]
  },
  {
   "cell_type": "code",
   "execution_count": 7,
   "id": "7231915d",
   "metadata": {
    "execution": {
     "iopub.execute_input": "2024-09-12T11:48:47.918957Z",
     "iopub.status.busy": "2024-09-12T11:48:47.918578Z",
     "iopub.status.idle": "2024-09-12T11:48:47.963204Z",
     "shell.execute_reply": "2024-09-12T11:48:47.962227Z"
    },
    "papermill": {
     "duration": 0.470911,
     "end_time": "2024-09-12T11:48:47.965503",
     "exception": false,
     "start_time": "2024-09-12T11:48:47.494592",
     "status": "completed"
    },
    "tags": []
   },
   "outputs": [
    {
     "name": "stdout",
     "output_type": "stream",
     "text": [
      "Data after removing rows with severity 0 or NaN: 24526 samples\n",
      "Data after removing rows with severity 0 or NaN: 31494 samples\n",
      "severity\n",
      "Normal/Mild    19108\n",
      "Moderate       18905\n",
      "Severe         18007\n",
      "Name: count, dtype: int64\n"
     ]
    }
   ],
   "source": [
    "# Drop rows with severity equal to 0 or NaN\n",
    "df_final_filtered_cleaned = df_png_paths[(df_png_paths['severity'] != 0) & (df_png_paths['severity'].notna())]\n",
    "df_augmented_cleaned = df_augmented_final[(df_augmented_final['severity'] != 0) & (df_augmented_final['severity'].notna())]\n",
    "\n",
    "# Display the resulting DataFrame\n",
    "print(f\"Data after removing rows with severity 0 or NaN: {df_final_filtered_cleaned.shape[0]} samples\")\n",
    "print(f\"Data after removing rows with severity 0 or NaN: {df_augmented_cleaned.shape[0]} samples\")\n",
    "\n",
    "# Concatenate the cleaned DataFrames\n",
    "df_concat = pd.concat([df_final_filtered_cleaned, df_augmented_cleaned], ignore_index=True)\n",
    "\n",
    "# Check the class distribution after balancing\n",
    "print(df_concat[\"severity\"].value_counts())"
   ]
  },
  {
   "cell_type": "code",
   "execution_count": 8,
   "id": "3c6d008f",
   "metadata": {
    "_kg_hide-input": true,
    "execution": {
     "iopub.execute_input": "2024-09-12T11:48:48.838549Z",
     "iopub.status.busy": "2024-09-12T11:48:48.838135Z",
     "iopub.status.idle": "2024-09-12T11:48:48.980425Z",
     "shell.execute_reply": "2024-09-12T11:48:48.979464Z"
    },
    "papermill": {
     "duration": 0.590991,
     "end_time": "2024-09-12T11:48:48.982709",
     "exception": false,
     "start_time": "2024-09-12T11:48:48.391718",
     "status": "completed"
    },
    "tags": []
   },
   "outputs": [
    {
     "name": "stdout",
     "output_type": "stream",
     "text": [
      "severity\n",
      "Normal/Mild    19108\n",
      "Moderate       18905\n",
      "Severe         18007\n",
      "Name: count, dtype: int64\n",
      "severity\n",
      "Severe         19108\n",
      "Normal/Mild    19108\n",
      "Moderate       19108\n",
      "Name: count, dtype: int64\n"
     ]
    }
   ],
   "source": [
    "# Count current instances in each class\n",
    "print(df_concat[\"severity\"].value_counts())\n",
    "\n",
    "# Define the target number for balancing (the maximum count from 'Normal/Mild')\n",
    "target_count = df_concat[\"severity\"].value_counts().max()\n",
    "\n",
    "# Oversampling the 'Severe' and 'Moderate' classes\n",
    "df_severe = df_concat[df_concat[\"severity\"] == \"Severe\"]\n",
    "df_moderate = df_concat[df_concat[\"severity\"] == \"Moderate\"]\n",
    "df_normal_mild = df_concat[df_concat[\"severity\"] == \"Normal/Mild\"]\n",
    "\n",
    "# Create balanced DataFrames by oversampling\n",
    "df_severe_oversampled = df_severe.sample(target_count, replace=True, random_state=42)\n",
    "df_moderate_oversampled = df_moderate.sample(target_count, replace=True, random_state=42)\n",
    "\n",
    "# Combine all classes into a single DataFrame\n",
    "df_balanced = pd.concat([df_normal_mild, df_severe_oversampled, df_moderate_oversampled], ignore_index=True)\n",
    "\n",
    "# Shuffle the balanced DataFrame\n",
    "df_resampled = df_balanced.sample(frac=1, random_state=42).reset_index(drop=True)\n",
    "\n",
    "# Check the class distribution after balancing\n",
    "print(df_resampled[\"severity\"].value_counts())"
   ]
  },
  {
   "cell_type": "code",
   "execution_count": 9,
   "id": "70dd5cc2",
   "metadata": {
    "execution": {
     "iopub.execute_input": "2024-09-12T11:48:49.884512Z",
     "iopub.status.busy": "2024-09-12T11:48:49.884104Z",
     "iopub.status.idle": "2024-09-12T11:49:13.322560Z",
     "shell.execute_reply": "2024-09-12T11:49:13.321558Z"
    },
    "papermill": {
     "duration": 23.866345,
     "end_time": "2024-09-12T11:49:13.324572",
     "exception": false,
     "start_time": "2024-09-12T11:48:49.458227",
     "status": "completed"
    },
    "tags": []
   },
   "outputs": [
    {
     "name": "stdout",
     "output_type": "stream",
     "text": [
      "Number of corrupted files removed: 3\n",
      "Number of valid rows in the final DataFrame: 57321\n"
     ]
    }
   ],
   "source": [
    "# List to store paths of corrupted files\n",
    "corrupted_files = []\n",
    "\n",
    "# Check each image in the dataset\n",
    "for index, row in df_resampled.iterrows():\n",
    "    img_path = row['image_path']\n",
    "    try:\n",
    "        # Try to open the image file\n",
    "        img = Image.open(img_path)\n",
    "        img.verify()  # Verify that it is a valid image\n",
    "    except (IOError, SyntaxError) as e:\n",
    "        corrupted_files.append(img_path)\n",
    "\n",
    "# Remove corrupted files from the DataFrame\n",
    "df_resampled_cleaned = df_resampled[~df_resampled['image_path'].isin(corrupted_files)]\n",
    "\n",
    "# Create the final augmented DataFrame with cleaned data\n",
    "df_dataset = df_resampled_cleaned.copy()\n",
    "\n",
    "# Print the number of corrupted files found and removed\n",
    "print(f\"Number of corrupted files removed: {len(corrupted_files)}\")\n",
    "\n",
    "# Print the number of valid rows in the final DataFrame\n",
    "print(f\"Number of valid rows in the final DataFrame: {df_dataset.shape[0]}\")"
   ]
  },
  {
   "cell_type": "code",
   "execution_count": 10,
   "id": "db7b373f",
   "metadata": {
    "execution": {
     "iopub.execute_input": "2024-09-12T11:49:14.164114Z",
     "iopub.status.busy": "2024-09-12T11:49:14.163739Z",
     "iopub.status.idle": "2024-09-12T11:49:15.065723Z",
     "shell.execute_reply": "2024-09-12T11:49:15.064943Z"
    },
    "papermill": {
     "duration": 1.324544,
     "end_time": "2024-09-12T11:49:15.068045",
     "exception": false,
     "start_time": "2024-09-12T11:49:13.743501",
     "status": "completed"
    },
    "tags": []
   },
   "outputs": [
    {
     "name": "stdout",
     "output_type": "stream",
     "text": [
      "Found 32099 validated image filenames belonging to 3 classes.\n",
      "Found 8025 validated image filenames belonging to 3 classes.\n",
      "Found 17197 validated image filenames belonging to 3 classes.\n"
     ]
    }
   ],
   "source": [
    "# Split the data into training, validation, and test sets\n",
    "train_df, test_df = train_test_split(df_resampled_cleaned, test_size=0.3, stratify=df_resampled_cleaned['severity'])\n",
    "train_df, val_df = train_test_split(train_df, test_size=0.2, stratify=train_df['severity'])\n",
    "\n",
    "# Create ImageDataGenerator with rescaling\n",
    "datagen = ImageDataGenerator(rescale=1./255)\n",
    "\n",
    "# Create data generators for train, validation, and test sets\n",
    "train_generator = datagen.flow_from_dataframe(\n",
    "    dataframe=train_df,\n",
    "    x_col='image_path',\n",
    "    y_col='severity',\n",
    "    target_size=(320, 320),  # Resize images to 256x256\n",
    "    batch_size=6,            # Batch size for training\n",
    "    class_mode='categorical', # Use 'categorical' for multi-class classification\n",
    "    shuffle=True              # Shuffle the training data\n",
    ")\n",
    "\n",
    "val_generator = datagen.flow_from_dataframe(\n",
    "    dataframe=val_df,\n",
    "    x_col='image_path',\n",
    "    y_col='severity',\n",
    "    target_size=(320, 320),  # Resize images to 256x256\n",
    "    batch_size=6,            # Batch size for validation\n",
    "    class_mode='categorical', # Use 'categorical' for multi-class classification\n",
    "    shuffle=False              # Do not shuffle validation data\n",
    ")\n",
    "\n",
    "test_generator = datagen.flow_from_dataframe(\n",
    "    dataframe=test_df,\n",
    "    x_col='image_path',\n",
    "    y_col='severity',\n",
    "    target_size=(320, 320),  # Resize images to 256x256\n",
    "    batch_size=6,            # Batch size for testing\n",
    "    class_mode='categorical', # Use 'categorical' for multi-class classification\n",
    "    shuffle=False              # Do not shuffle test data\n",
    ")\n",
    "\n",
    "# Set the class names\n",
    "class_names = ['Moderate', 'Normal/Mild', 'Severe']"
   ]
  },
  {
   "cell_type": "code",
   "execution_count": 11,
   "id": "9d1b3e4d",
   "metadata": {
    "execution": {
     "iopub.execute_input": "2024-09-12T11:49:15.956669Z",
     "iopub.status.busy": "2024-09-12T11:49:15.956287Z",
     "iopub.status.idle": "2024-09-12T12:44:43.165963Z",
     "shell.execute_reply": "2024-09-12T12:44:43.165076Z"
    },
    "papermill": {
     "duration": 3331.80093,
     "end_time": "2024-09-12T12:44:47.334116",
     "exception": false,
     "start_time": "2024-09-12T11:49:15.533186",
     "status": "completed"
    },
    "tags": []
   },
   "outputs": [
    {
     "name": "stderr",
     "output_type": "stream",
     "text": [
      "/opt/conda/lib/python3.10/site-packages/keras/src/layers/convolutional/base_conv.py:107: UserWarning: Do not pass an `input_shape`/`input_dim` argument to a layer. When using Sequential models, prefer using an `Input(shape)` object as the first layer in the model instead.\n",
      "  super().__init__(activity_regularizer=activity_regularizer, **kwargs)\n"
     ]
    },
    {
     "data": {
      "text/html": [
       "<pre style=\"white-space:pre;overflow-x:auto;line-height:normal;font-family:Menlo,'DejaVu Sans Mono',consolas,'Courier New',monospace\"><span style=\"font-weight: bold\">Model: \"sequential\"</span>\n",
       "</pre>\n"
      ],
      "text/plain": [
       "\u001b[1mModel: \"sequential\"\u001b[0m\n"
      ]
     },
     "metadata": {},
     "output_type": "display_data"
    },
    {
     "data": {
      "text/html": [
       "<pre style=\"white-space:pre;overflow-x:auto;line-height:normal;font-family:Menlo,'DejaVu Sans Mono',consolas,'Courier New',monospace\">┏━━━━━━━━━━━━━━━━━━━━━━━━━━━━━━━━━┳━━━━━━━━━━━━━━━━━━━━━━━━┳━━━━━━━━━━━━━━━┓\n",
       "┃<span style=\"font-weight: bold\"> Layer (type)                    </span>┃<span style=\"font-weight: bold\"> Output Shape           </span>┃<span style=\"font-weight: bold\">       Param # </span>┃\n",
       "┡━━━━━━━━━━━━━━━━━━━━━━━━━━━━━━━━━╇━━━━━━━━━━━━━━━━━━━━━━━━╇━━━━━━━━━━━━━━━┩\n",
       "│ conv2d (<span style=\"color: #0087ff; text-decoration-color: #0087ff\">Conv2D</span>)                 │ (<span style=\"color: #00d7ff; text-decoration-color: #00d7ff\">None</span>, <span style=\"color: #00af00; text-decoration-color: #00af00\">318</span>, <span style=\"color: #00af00; text-decoration-color: #00af00\">318</span>, <span style=\"color: #00af00; text-decoration-color: #00af00\">32</span>)   │           <span style=\"color: #00af00; text-decoration-color: #00af00\">896</span> │\n",
       "├─────────────────────────────────┼────────────────────────┼───────────────┤\n",
       "│ max_pooling2d (<span style=\"color: #0087ff; text-decoration-color: #0087ff\">MaxPooling2D</span>)    │ (<span style=\"color: #00d7ff; text-decoration-color: #00d7ff\">None</span>, <span style=\"color: #00af00; text-decoration-color: #00af00\">159</span>, <span style=\"color: #00af00; text-decoration-color: #00af00\">159</span>, <span style=\"color: #00af00; text-decoration-color: #00af00\">32</span>)   │             <span style=\"color: #00af00; text-decoration-color: #00af00\">0</span> │\n",
       "├─────────────────────────────────┼────────────────────────┼───────────────┤\n",
       "│ conv2d_1 (<span style=\"color: #0087ff; text-decoration-color: #0087ff\">Conv2D</span>)               │ (<span style=\"color: #00d7ff; text-decoration-color: #00d7ff\">None</span>, <span style=\"color: #00af00; text-decoration-color: #00af00\">157</span>, <span style=\"color: #00af00; text-decoration-color: #00af00\">157</span>, <span style=\"color: #00af00; text-decoration-color: #00af00\">64</span>)   │        <span style=\"color: #00af00; text-decoration-color: #00af00\">18,496</span> │\n",
       "├─────────────────────────────────┼────────────────────────┼───────────────┤\n",
       "│ max_pooling2d_1 (<span style=\"color: #0087ff; text-decoration-color: #0087ff\">MaxPooling2D</span>)  │ (<span style=\"color: #00d7ff; text-decoration-color: #00d7ff\">None</span>, <span style=\"color: #00af00; text-decoration-color: #00af00\">78</span>, <span style=\"color: #00af00; text-decoration-color: #00af00\">78</span>, <span style=\"color: #00af00; text-decoration-color: #00af00\">64</span>)     │             <span style=\"color: #00af00; text-decoration-color: #00af00\">0</span> │\n",
       "├─────────────────────────────────┼────────────────────────┼───────────────┤\n",
       "│ conv2d_2 (<span style=\"color: #0087ff; text-decoration-color: #0087ff\">Conv2D</span>)               │ (<span style=\"color: #00d7ff; text-decoration-color: #00d7ff\">None</span>, <span style=\"color: #00af00; text-decoration-color: #00af00\">76</span>, <span style=\"color: #00af00; text-decoration-color: #00af00\">76</span>, <span style=\"color: #00af00; text-decoration-color: #00af00\">128</span>)    │        <span style=\"color: #00af00; text-decoration-color: #00af00\">73,856</span> │\n",
       "├─────────────────────────────────┼────────────────────────┼───────────────┤\n",
       "│ max_pooling2d_2 (<span style=\"color: #0087ff; text-decoration-color: #0087ff\">MaxPooling2D</span>)  │ (<span style=\"color: #00d7ff; text-decoration-color: #00d7ff\">None</span>, <span style=\"color: #00af00; text-decoration-color: #00af00\">38</span>, <span style=\"color: #00af00; text-decoration-color: #00af00\">38</span>, <span style=\"color: #00af00; text-decoration-color: #00af00\">128</span>)    │             <span style=\"color: #00af00; text-decoration-color: #00af00\">0</span> │\n",
       "├─────────────────────────────────┼────────────────────────┼───────────────┤\n",
       "│ flatten (<span style=\"color: #0087ff; text-decoration-color: #0087ff\">Flatten</span>)               │ (<span style=\"color: #00d7ff; text-decoration-color: #00d7ff\">None</span>, <span style=\"color: #00af00; text-decoration-color: #00af00\">184832</span>)         │             <span style=\"color: #00af00; text-decoration-color: #00af00\">0</span> │\n",
       "├─────────────────────────────────┼────────────────────────┼───────────────┤\n",
       "│ dense (<span style=\"color: #0087ff; text-decoration-color: #0087ff\">Dense</span>)                   │ (<span style=\"color: #00d7ff; text-decoration-color: #00d7ff\">None</span>, <span style=\"color: #00af00; text-decoration-color: #00af00\">128</span>)            │    <span style=\"color: #00af00; text-decoration-color: #00af00\">23,658,624</span> │\n",
       "├─────────────────────────────────┼────────────────────────┼───────────────┤\n",
       "│ dropout (<span style=\"color: #0087ff; text-decoration-color: #0087ff\">Dropout</span>)               │ (<span style=\"color: #00d7ff; text-decoration-color: #00d7ff\">None</span>, <span style=\"color: #00af00; text-decoration-color: #00af00\">128</span>)            │             <span style=\"color: #00af00; text-decoration-color: #00af00\">0</span> │\n",
       "├─────────────────────────────────┼────────────────────────┼───────────────┤\n",
       "│ dense_1 (<span style=\"color: #0087ff; text-decoration-color: #0087ff\">Dense</span>)                 │ (<span style=\"color: #00d7ff; text-decoration-color: #00d7ff\">None</span>, <span style=\"color: #00af00; text-decoration-color: #00af00\">3</span>)              │           <span style=\"color: #00af00; text-decoration-color: #00af00\">387</span> │\n",
       "└─────────────────────────────────┴────────────────────────┴───────────────┘\n",
       "</pre>\n"
      ],
      "text/plain": [
       "┏━━━━━━━━━━━━━━━━━━━━━━━━━━━━━━━━━┳━━━━━━━━━━━━━━━━━━━━━━━━┳━━━━━━━━━━━━━━━┓\n",
       "┃\u001b[1m \u001b[0m\u001b[1mLayer (type)                   \u001b[0m\u001b[1m \u001b[0m┃\u001b[1m \u001b[0m\u001b[1mOutput Shape          \u001b[0m\u001b[1m \u001b[0m┃\u001b[1m \u001b[0m\u001b[1m      Param #\u001b[0m\u001b[1m \u001b[0m┃\n",
       "┡━━━━━━━━━━━━━━━━━━━━━━━━━━━━━━━━━╇━━━━━━━━━━━━━━━━━━━━━━━━╇━━━━━━━━━━━━━━━┩\n",
       "│ conv2d (\u001b[38;5;33mConv2D\u001b[0m)                 │ (\u001b[38;5;45mNone\u001b[0m, \u001b[38;5;34m318\u001b[0m, \u001b[38;5;34m318\u001b[0m, \u001b[38;5;34m32\u001b[0m)   │           \u001b[38;5;34m896\u001b[0m │\n",
       "├─────────────────────────────────┼────────────────────────┼───────────────┤\n",
       "│ max_pooling2d (\u001b[38;5;33mMaxPooling2D\u001b[0m)    │ (\u001b[38;5;45mNone\u001b[0m, \u001b[38;5;34m159\u001b[0m, \u001b[38;5;34m159\u001b[0m, \u001b[38;5;34m32\u001b[0m)   │             \u001b[38;5;34m0\u001b[0m │\n",
       "├─────────────────────────────────┼────────────────────────┼───────────────┤\n",
       "│ conv2d_1 (\u001b[38;5;33mConv2D\u001b[0m)               │ (\u001b[38;5;45mNone\u001b[0m, \u001b[38;5;34m157\u001b[0m, \u001b[38;5;34m157\u001b[0m, \u001b[38;5;34m64\u001b[0m)   │        \u001b[38;5;34m18,496\u001b[0m │\n",
       "├─────────────────────────────────┼────────────────────────┼───────────────┤\n",
       "│ max_pooling2d_1 (\u001b[38;5;33mMaxPooling2D\u001b[0m)  │ (\u001b[38;5;45mNone\u001b[0m, \u001b[38;5;34m78\u001b[0m, \u001b[38;5;34m78\u001b[0m, \u001b[38;5;34m64\u001b[0m)     │             \u001b[38;5;34m0\u001b[0m │\n",
       "├─────────────────────────────────┼────────────────────────┼───────────────┤\n",
       "│ conv2d_2 (\u001b[38;5;33mConv2D\u001b[0m)               │ (\u001b[38;5;45mNone\u001b[0m, \u001b[38;5;34m76\u001b[0m, \u001b[38;5;34m76\u001b[0m, \u001b[38;5;34m128\u001b[0m)    │        \u001b[38;5;34m73,856\u001b[0m │\n",
       "├─────────────────────────────────┼────────────────────────┼───────────────┤\n",
       "│ max_pooling2d_2 (\u001b[38;5;33mMaxPooling2D\u001b[0m)  │ (\u001b[38;5;45mNone\u001b[0m, \u001b[38;5;34m38\u001b[0m, \u001b[38;5;34m38\u001b[0m, \u001b[38;5;34m128\u001b[0m)    │             \u001b[38;5;34m0\u001b[0m │\n",
       "├─────────────────────────────────┼────────────────────────┼───────────────┤\n",
       "│ flatten (\u001b[38;5;33mFlatten\u001b[0m)               │ (\u001b[38;5;45mNone\u001b[0m, \u001b[38;5;34m184832\u001b[0m)         │             \u001b[38;5;34m0\u001b[0m │\n",
       "├─────────────────────────────────┼────────────────────────┼───────────────┤\n",
       "│ dense (\u001b[38;5;33mDense\u001b[0m)                   │ (\u001b[38;5;45mNone\u001b[0m, \u001b[38;5;34m128\u001b[0m)            │    \u001b[38;5;34m23,658,624\u001b[0m │\n",
       "├─────────────────────────────────┼────────────────────────┼───────────────┤\n",
       "│ dropout (\u001b[38;5;33mDropout\u001b[0m)               │ (\u001b[38;5;45mNone\u001b[0m, \u001b[38;5;34m128\u001b[0m)            │             \u001b[38;5;34m0\u001b[0m │\n",
       "├─────────────────────────────────┼────────────────────────┼───────────────┤\n",
       "│ dense_1 (\u001b[38;5;33mDense\u001b[0m)                 │ (\u001b[38;5;45mNone\u001b[0m, \u001b[38;5;34m3\u001b[0m)              │           \u001b[38;5;34m387\u001b[0m │\n",
       "└─────────────────────────────────┴────────────────────────┴───────────────┘\n"
      ]
     },
     "metadata": {},
     "output_type": "display_data"
    },
    {
     "data": {
      "text/html": [
       "<pre style=\"white-space:pre;overflow-x:auto;line-height:normal;font-family:Menlo,'DejaVu Sans Mono',consolas,'Courier New',monospace\"><span style=\"font-weight: bold\"> Total params: </span><span style=\"color: #00af00; text-decoration-color: #00af00\">23,752,259</span> (90.61 MB)\n",
       "</pre>\n"
      ],
      "text/plain": [
       "\u001b[1m Total params: \u001b[0m\u001b[38;5;34m23,752,259\u001b[0m (90.61 MB)\n"
      ]
     },
     "metadata": {},
     "output_type": "display_data"
    },
    {
     "data": {
      "text/html": [
       "<pre style=\"white-space:pre;overflow-x:auto;line-height:normal;font-family:Menlo,'DejaVu Sans Mono',consolas,'Courier New',monospace\"><span style=\"font-weight: bold\"> Trainable params: </span><span style=\"color: #00af00; text-decoration-color: #00af00\">23,752,259</span> (90.61 MB)\n",
       "</pre>\n"
      ],
      "text/plain": [
       "\u001b[1m Trainable params: \u001b[0m\u001b[38;5;34m23,752,259\u001b[0m (90.61 MB)\n"
      ]
     },
     "metadata": {},
     "output_type": "display_data"
    },
    {
     "data": {
      "text/html": [
       "<pre style=\"white-space:pre;overflow-x:auto;line-height:normal;font-family:Menlo,'DejaVu Sans Mono',consolas,'Courier New',monospace\"><span style=\"font-weight: bold\"> Non-trainable params: </span><span style=\"color: #00af00; text-decoration-color: #00af00\">0</span> (0.00 B)\n",
       "</pre>\n"
      ],
      "text/plain": [
       "\u001b[1m Non-trainable params: \u001b[0m\u001b[38;5;34m0\u001b[0m (0.00 B)\n"
      ]
     },
     "metadata": {},
     "output_type": "display_data"
    },
    {
     "name": "stdout",
     "output_type": "stream",
     "text": [
      "Epoch 1/20\n"
     ]
    },
    {
     "name": "stderr",
     "output_type": "stream",
     "text": [
      "/opt/conda/lib/python3.10/site-packages/keras/src/trainers/data_adapters/py_dataset_adapter.py:121: UserWarning: Your `PyDataset` class should call `super().__init__(**kwargs)` in its constructor. `**kwargs` can include `workers`, `use_multiprocessing`, `max_queue_size`. Do not pass these arguments to `fit()`, as they will be ignored.\n",
      "  self._warn_if_super_not_called()\n",
      "WARNING: All log messages before absl::InitializeLog() is called are written to STDERR\n",
      "I0000 00:00:1726141758.699596      78 service.cc:145] XLA service 0x799438005740 initialized for platform CUDA (this does not guarantee that XLA will be used). Devices:\n",
      "I0000 00:00:1726141758.699669      78 service.cc:153]   StreamExecutor device (0): Tesla P100-PCIE-16GB, Compute Capability 6.0\n"
     ]
    },
    {
     "name": "stdout",
     "output_type": "stream",
     "text": [
      "\u001b[1m   9/5350\u001b[0m \u001b[37m━━━━━━━━━━━━━━━━━━━━\u001b[0m \u001b[1m2:00\u001b[0m 23ms/step - accuracy: 0.2911 - loss: 1.0944"
     ]
    },
    {
     "name": "stderr",
     "output_type": "stream",
     "text": [
      "I0000 00:00:1726141763.092762      78 device_compiler.h:188] Compiled cluster using XLA!  This line is logged at most once for the lifetime of the process.\n"
     ]
    },
    {
     "name": "stdout",
     "output_type": "stream",
     "text": [
      "\u001b[1m5350/5350\u001b[0m \u001b[32m━━━━━━━━━━━━━━━━━━━━\u001b[0m\u001b[37m\u001b[0m \u001b[1m173s\u001b[0m 31ms/step - accuracy: 0.4999 - loss: 0.9701 - val_accuracy: 0.5849 - val_loss: 0.8429\n",
      "Epoch 2/20\n",
      "\u001b[1m5350/5350\u001b[0m \u001b[32m━━━━━━━━━━━━━━━━━━━━\u001b[0m\u001b[37m\u001b[0m \u001b[1m164s\u001b[0m 31ms/step - accuracy: 0.5993 - loss: 0.8354 - val_accuracy: 0.6243 - val_loss: 0.7877\n",
      "Epoch 3/20\n",
      "\u001b[1m5350/5350\u001b[0m \u001b[32m━━━━━━━━━━━━━━━━━━━━\u001b[0m\u001b[37m\u001b[0m \u001b[1m159s\u001b[0m 30ms/step - accuracy: 0.6397 - loss: 0.7695 - val_accuracy: 0.6523 - val_loss: 0.7324\n",
      "Epoch 4/20\n",
      "\u001b[1m5350/5350\u001b[0m \u001b[32m━━━━━━━━━━━━━━━━━━━━\u001b[0m\u001b[37m\u001b[0m \u001b[1m164s\u001b[0m 31ms/step - accuracy: 0.6787 - loss: 0.7013 - val_accuracy: 0.6819 - val_loss: 0.6871\n",
      "Epoch 5/20\n",
      "\u001b[1m5350/5350\u001b[0m \u001b[32m━━━━━━━━━━━━━━━━━━━━\u001b[0m\u001b[37m\u001b[0m \u001b[1m165s\u001b[0m 31ms/step - accuracy: 0.7191 - loss: 0.6412 - val_accuracy: 0.7257 - val_loss: 0.6297\n",
      "Epoch 6/20\n",
      "\u001b[1m5350/5350\u001b[0m \u001b[32m━━━━━━━━━━━━━━━━━━━━\u001b[0m\u001b[37m\u001b[0m \u001b[1m165s\u001b[0m 31ms/step - accuracy: 0.7625 - loss: 0.5625 - val_accuracy: 0.7431 - val_loss: 0.5886\n",
      "Epoch 7/20\n",
      "\u001b[1m5350/5350\u001b[0m \u001b[32m━━━━━━━━━━━━━━━━━━━━\u001b[0m\u001b[37m\u001b[0m \u001b[1m170s\u001b[0m 32ms/step - accuracy: 0.7886 - loss: 0.5099 - val_accuracy: 0.7707 - val_loss: 0.5485\n",
      "Epoch 8/20\n",
      "\u001b[1m5350/5350\u001b[0m \u001b[32m━━━━━━━━━━━━━━━━━━━━\u001b[0m\u001b[37m\u001b[0m \u001b[1m171s\u001b[0m 32ms/step - accuracy: 0.8185 - loss: 0.4493 - val_accuracy: 0.7898 - val_loss: 0.5169\n",
      "Epoch 9/20\n",
      "\u001b[1m5350/5350\u001b[0m \u001b[32m━━━━━━━━━━━━━━━━━━━━\u001b[0m\u001b[37m\u001b[0m \u001b[1m164s\u001b[0m 31ms/step - accuracy: 0.8486 - loss: 0.3901 - val_accuracy: 0.8189 - val_loss: 0.4706\n",
      "Epoch 10/20\n",
      "\u001b[1m5350/5350\u001b[0m \u001b[32m━━━━━━━━━━━━━━━━━━━━\u001b[0m\u001b[37m\u001b[0m \u001b[1m162s\u001b[0m 30ms/step - accuracy: 0.8694 - loss: 0.3385 - val_accuracy: 0.8335 - val_loss: 0.4503\n",
      "Epoch 11/20\n",
      "\u001b[1m5350/5350\u001b[0m \u001b[32m━━━━━━━━━━━━━━━━━━━━\u001b[0m\u001b[37m\u001b[0m \u001b[1m165s\u001b[0m 31ms/step - accuracy: 0.8864 - loss: 0.3025 - val_accuracy: 0.8452 - val_loss: 0.4226\n",
      "Epoch 12/20\n",
      "\u001b[1m5350/5350\u001b[0m \u001b[32m━━━━━━━━━━━━━━━━━━━━\u001b[0m\u001b[37m\u001b[0m \u001b[1m161s\u001b[0m 30ms/step - accuracy: 0.9029 - loss: 0.2628 - val_accuracy: 0.8568 - val_loss: 0.4038\n",
      "Epoch 13/20\n",
      "\u001b[1m5350/5350\u001b[0m \u001b[32m━━━━━━━━━━━━━━━━━━━━\u001b[0m\u001b[37m\u001b[0m \u001b[1m164s\u001b[0m 31ms/step - accuracy: 0.9136 - loss: 0.2375 - val_accuracy: 0.8602 - val_loss: 0.4009\n",
      "Epoch 14/20\n",
      "\u001b[1m5350/5350\u001b[0m \u001b[32m━━━━━━━━━━━━━━━━━━━━\u001b[0m\u001b[37m\u001b[0m \u001b[1m167s\u001b[0m 31ms/step - accuracy: 0.9252 - loss: 0.2095 - val_accuracy: 0.8715 - val_loss: 0.4073\n",
      "Epoch 15/20\n",
      "\u001b[1m5350/5350\u001b[0m \u001b[32m━━━━━━━━━━━━━━━━━━━━\u001b[0m\u001b[37m\u001b[0m \u001b[1m171s\u001b[0m 32ms/step - accuracy: 0.9292 - loss: 0.1908 - val_accuracy: 0.8673 - val_loss: 0.4151\n",
      "Epoch 16/20\n",
      "\u001b[1m5350/5350\u001b[0m \u001b[32m━━━━━━━━━━━━━━━━━━━━\u001b[0m\u001b[37m\u001b[0m \u001b[1m167s\u001b[0m 31ms/step - accuracy: 0.9378 - loss: 0.1723 - val_accuracy: 0.8748 - val_loss: 0.4148\n",
      "Epoch 17/20\n",
      "\u001b[1m5350/5350\u001b[0m \u001b[32m━━━━━━━━━━━━━━━━━━━━\u001b[0m\u001b[37m\u001b[0m \u001b[1m170s\u001b[0m 32ms/step - accuracy: 0.9461 - loss: 0.1550 - val_accuracy: 0.8802 - val_loss: 0.3985\n",
      "Epoch 18/20\n",
      "\u001b[1m5350/5350\u001b[0m \u001b[32m━━━━━━━━━━━━━━━━━━━━\u001b[0m\u001b[37m\u001b[0m \u001b[1m168s\u001b[0m 31ms/step - accuracy: 0.9502 - loss: 0.1404 - val_accuracy: 0.8872 - val_loss: 0.3810\n",
      "Epoch 19/20\n",
      "\u001b[1m5350/5350\u001b[0m \u001b[32m━━━━━━━━━━━━━━━━━━━━\u001b[0m\u001b[37m\u001b[0m \u001b[1m169s\u001b[0m 32ms/step - accuracy: 0.9560 - loss: 0.1309 - val_accuracy: 0.8793 - val_loss: 0.4383\n",
      "Epoch 20/20\n",
      "\u001b[1m5350/5350\u001b[0m \u001b[32m━━━━━━━━━━━━━━━━━━━━\u001b[0m\u001b[37m\u001b[0m \u001b[1m169s\u001b[0m 32ms/step - accuracy: 0.9584 - loss: 0.1138 - val_accuracy: 0.8936 - val_loss: 0.4089\n"
     ]
    }
   ],
   "source": [
    "import numpy as np\n",
    "from sklearn.model_selection import train_test_split\n",
    "from tensorflow.keras.preprocessing.image import ImageDataGenerator\n",
    "from tensorflow.keras import layers\n",
    "from tensorflow.keras.models import Sequential\n",
    "import tensorflow as tf\n",
    "\n",
    "# Build the CNN model\n",
    "model = Sequential([\n",
    "    layers.Conv2D(32, (3, 3), activation='relu', input_shape=(320, 320, 3)),\n",
    "    layers.MaxPooling2D(pool_size=(2, 2)),\n",
    "    layers.Conv2D(64, (3, 3), activation='relu'),\n",
    "    layers.MaxPooling2D(pool_size=(2, 2)),\n",
    "    layers.Conv2D(128, (3, 3), activation='relu'),\n",
    "    layers.MaxPooling2D(pool_size=(2, 2)),\n",
    "    layers.Flatten(),\n",
    "    layers.Dense(128, activation='relu'),\n",
    "    layers.Dropout(0.5),  # Dropout for regularization\n",
    "    layers.Dense(3, activation='softmax')\n",
    "])\n",
    "\n",
    "# Compile the model using categorical crossentropy\n",
    "model.compile(\n",
    "    optimizer=tf.keras.optimizers.Adam(learning_rate=0.00001),\n",
    "    loss='categorical_crossentropy',\n",
    "    metrics=['accuracy']\n",
    ")\n",
    "\n",
    "# Display the model summary\n",
    "model.summary()\n",
    "\n",
    "# Fit the model and capture the history\n",
    "history = model.fit(\n",
    "    train_generator,\n",
    "    validation_data=val_generator,\n",
    "    epochs=20,\n",
    "    verbose=1\n",
    ")"
   ]
  },
  {
   "cell_type": "code",
   "execution_count": 12,
   "id": "48ef5ef4",
   "metadata": {
    "execution": {
     "iopub.execute_input": "2024-09-12T12:44:55.774019Z",
     "iopub.status.busy": "2024-09-12T12:44:55.773640Z",
     "iopub.status.idle": "2024-09-12T12:46:07.466349Z",
     "shell.execute_reply": "2024-09-12T12:46:07.465222Z"
    },
    "papermill": {
     "duration": 75.915415,
     "end_time": "2024-09-12T12:46:07.468332",
     "exception": false,
     "start_time": "2024-09-12T12:44:51.552917",
     "status": "completed"
    },
    "tags": []
   },
   "outputs": [
    {
     "name": "stdout",
     "output_type": "stream",
     "text": [
      "\u001b[1m2867/2867\u001b[0m \u001b[32m━━━━━━━━━━━━━━━━━━━━\u001b[0m\u001b[37m\u001b[0m \u001b[1m72s\u001b[0m 25ms/step - accuracy: 0.8927 - loss: 0.4078\n",
      "Test Loss: 0.39662662148475647\n",
      "Test Accuracy: 0.8962609767913818\n"
     ]
    }
   ],
   "source": [
    "test_loss, test_accuracy = model.evaluate(test_generator)\n",
    "print(f\"Test Loss: {test_loss}\")\n",
    "print(f\"Test Accuracy: {test_accuracy}\")"
   ]
  },
  {
   "cell_type": "code",
   "execution_count": 13,
   "id": "14ecfc79",
   "metadata": {
    "execution": {
     "iopub.execute_input": "2024-09-12T12:46:16.120214Z",
     "iopub.status.busy": "2024-09-12T12:46:16.119542Z",
     "iopub.status.idle": "2024-09-12T12:46:16.599781Z",
     "shell.execute_reply": "2024-09-12T12:46:16.598859Z"
    },
    "papermill": {
     "duration": 4.830332,
     "end_time": "2024-09-12T12:46:16.602060",
     "exception": false,
     "start_time": "2024-09-12T12:46:11.771728",
     "status": "completed"
    },
    "tags": []
   },
   "outputs": [
    {
     "data": {
      "image/png": "[encoded data removed]",
      "text/plain": [
       "<Figure size 400x400 with 1 Axes>"
      ]
     },
     "metadata": {},
     "output_type": "display_data"
    },
    {
     "data": {
      "image/png": "[encoded data removed]",
      "text/plain": [
       "<Figure size 400x400 with 1 Axes>"
      ]
     },
     "metadata": {},
     "output_type": "display_data"
    }
   ],
   "source": [
    "# Plot Training & Validation Loss\n",
    "plt.figure(figsize=(4, 4))\n",
    "plt.plot(history.history['accuracy'], label='Training Accuracy')\n",
    "plt.plot(history.history['loss'], label='Validation Accuracy')\n",
    "plt.title('Training and Validation Accuracy')\n",
    "plt.xlabel('Epoch')\n",
    "plt.ylabel('Accuracy')\n",
    "plt.legend()\n",
    "\n",
    "plt.tight_layout()\n",
    "plt.show()\n",
    "# Assuming 'history' is the variable where you stored the output of model.fit\n",
    "\n",
    "# Plot Training & Validation Loss\n",
    "plt.figure(figsize=(4, 4))\n",
    "plt.plot(history.history['val_accuracy'], label='Training Accuracy')\n",
    "plt.plot(history.history['val_loss'], label='Validation Accuracy')\n",
    "plt.title('Training and Validation Accuracy')\n",
    "plt.xlabel('Epoch')\n",
    "plt.ylabel('Accuracy')\n",
    "plt.legend()\n",
    "\n",
    "plt.tight_layout()\n",
    "plt.show()"
   ]
  },
  {
   "cell_type": "code",
   "execution_count": 14,
   "id": "2487699d",
   "metadata": {
    "execution": {
     "iopub.execute_input": "2024-09-12T12:46:25.098956Z",
     "iopub.status.busy": "2024-09-12T12:46:25.098571Z",
     "iopub.status.idle": "2024-09-12T12:46:27.976711Z",
     "shell.execute_reply": "2024-09-12T12:46:27.975675Z"
    },
    "papermill": {
     "duration": 7.136029,
     "end_time": "2024-09-12T12:46:27.978879",
     "exception": false,
     "start_time": "2024-09-12T12:46:20.842850",
     "status": "completed"
    },
    "tags": []
   },
   "outputs": [
    {
     "name": "stderr",
     "output_type": "stream",
     "text": [
      "100%|██████████| 3/3 [00:02<00:00,  1.05it/s]\n"
     ]
    }
   ],
   "source": [
    "df_test_series = pd.read_csv(\"/kaggle/input/rsna-2024-lumbar-spine-degenerative-classification/test_series_descriptions.csv\")\n",
    "test_images_path = '/kaggle/input/rsna-2024-lumbar-spine-degenerative-classification/test_images'\n",
    "output_path = '/kaggle/working/RSNA_test_images_png/'\n",
    "\n",
    "# Remove the output directory if it exists (for fresh conversion)\n",
    "if os.path.isdir(output_path):\n",
    "    shutil.rmtree(output_path)\n",
    "\n",
    "# Iterate over the test data\n",
    "for idx, row in tqdm(df_test_series.iterrows(), total=len(df_test_series)):\n",
    "    study_id = row['study_id']\n",
    "    series_id = row['series_id']\n",
    "    series_desc = row['series_description'].replace(' ', '_').replace('/', '_')\n",
    "    \n",
    "    # Define the new directory structure for PNGs\n",
    "    series_output_dir = f'{output_path}/{study_id}/{series_desc}'\n",
    "    os.makedirs(series_output_dir, exist_ok=True)\n",
    "    \n",
    "    # Get all DICOM files in this series\n",
    "    series_dicom_dir = f'{test_images_path}/{study_id}/{series_id}'\n",
    "    dicom_files = glob(f'{series_dicom_dir}/*.dcm')\n",
    "    \n",
    "    # Convert each DICOM file to PNG\n",
    "    for dicom_file in dicom_files:\n",
    "        dicom_image = pydicom.dcmread(dicom_file)\n",
    "        image_filename = os.path.splitext(os.path.basename(dicom_file))[0]  # Use SOPInstanceUID for naming\n",
    "        image_dicom_pixelarray = dicom_image.pixel_array\n",
    "        \n",
    "        dest_path = f'{series_output_dir}/{image_filename}.png'\n",
    "        readdcm_writepng_image(image_dicom_pixelarray, dest_path)"
   ]
  },
  {
   "cell_type": "code",
   "execution_count": 15,
   "id": "ba6c1a65",
   "metadata": {
    "execution": {
     "iopub.execute_input": "2024-09-12T12:46:36.558105Z",
     "iopub.status.busy": "2024-09-12T12:46:36.557722Z",
     "iopub.status.idle": "2024-09-12T12:47:00.998835Z",
     "shell.execute_reply": "2024-09-12T12:47:00.997774Z"
    },
    "papermill": {
     "duration": 28.736058,
     "end_time": "2024-09-12T12:47:01.000918",
     "exception": false,
     "start_time": "2024-09-12T12:46:32.264860",
     "status": "completed"
    },
    "tags": []
   },
   "outputs": [
    {
     "name": "stdout",
     "output_type": "stream",
     "text": [
      "\u001b[1m4/4\u001b[0m \u001b[32m━━━━━━━━━━━━━━━━━━━━\u001b[0m\u001b[37m\u001b[0m \u001b[1m2s\u001b[0m 104ms/step\n",
      "\u001b[1m4/4\u001b[0m \u001b[32m━━━━━━━━━━━━━━━━━━━━\u001b[0m\u001b[37m\u001b[0m \u001b[1m0s\u001b[0m 14ms/step\n",
      "\u001b[1m4/4\u001b[0m \u001b[32m━━━━━━━━━━━━━━━━━━━━\u001b[0m\u001b[37m\u001b[0m \u001b[1m0s\u001b[0m 18ms/step\n",
      "\u001b[1m4/4\u001b[0m \u001b[32m━━━━━━━━━━━━━━━━━━━━\u001b[0m\u001b[37m\u001b[0m \u001b[1m0s\u001b[0m 14ms/step\n",
      "\u001b[1m4/4\u001b[0m \u001b[32m━━━━━━━━━━━━━━━━━━━━\u001b[0m\u001b[37m\u001b[0m \u001b[1m0s\u001b[0m 14ms/step\n",
      "\u001b[1m4/4\u001b[0m \u001b[32m━━━━━━━━━━━━━━━━━━━━\u001b[0m\u001b[37m\u001b[0m \u001b[1m0s\u001b[0m 14ms/step\n",
      "\u001b[1m4/4\u001b[0m \u001b[32m━━━━━━━━━━━━━━━━━━━━\u001b[0m\u001b[37m\u001b[0m \u001b[1m0s\u001b[0m 15ms/step\n",
      "\u001b[1m4/4\u001b[0m \u001b[32m━━━━━━━━━━━━━━━━━━━━\u001b[0m\u001b[37m\u001b[0m \u001b[1m0s\u001b[0m 14ms/step\n",
      "\u001b[1m4/4\u001b[0m \u001b[32m━━━━━━━━━━━━━━━━━━━━\u001b[0m\u001b[37m\u001b[0m \u001b[1m0s\u001b[0m 14ms/step\n",
      "\u001b[1m4/4\u001b[0m \u001b[32m━━━━━━━━━━━━━━━━━━━━\u001b[0m\u001b[37m\u001b[0m \u001b[1m0s\u001b[0m 14ms/step\n",
      "\u001b[1m4/4\u001b[0m \u001b[32m━━━━━━━━━━━━━━━━━━━━\u001b[0m\u001b[37m\u001b[0m \u001b[1m0s\u001b[0m 14ms/step\n",
      "\u001b[1m4/4\u001b[0m \u001b[32m━━━━━━━━━━━━━━━━━━━━\u001b[0m\u001b[37m\u001b[0m \u001b[1m0s\u001b[0m 14ms/step\n",
      "\u001b[1m4/4\u001b[0m \u001b[32m━━━━━━━━━━━━━━━━━━━━\u001b[0m\u001b[37m\u001b[0m \u001b[1m0s\u001b[0m 14ms/step\n",
      "\u001b[1m4/4\u001b[0m \u001b[32m━━━━━━━━━━━━━━━━━━━━\u001b[0m\u001b[37m\u001b[0m \u001b[1m0s\u001b[0m 14ms/step\n",
      "\u001b[1m4/4\u001b[0m \u001b[32m━━━━━━━━━━━━━━━━━━━━\u001b[0m\u001b[37m\u001b[0m \u001b[1m0s\u001b[0m 14ms/step\n",
      "\u001b[1m4/4\u001b[0m \u001b[32m━━━━━━━━━━━━━━━━━━━━\u001b[0m\u001b[37m\u001b[0m \u001b[1m0s\u001b[0m 14ms/step\n",
      "\u001b[1m4/4\u001b[0m \u001b[32m━━━━━━━━━━━━━━━━━━━━\u001b[0m\u001b[37m\u001b[0m \u001b[1m0s\u001b[0m 14ms/step\n",
      "\u001b[1m4/4\u001b[0m \u001b[32m━━━━━━━━━━━━━━━━━━━━\u001b[0m\u001b[37m\u001b[0m \u001b[1m0s\u001b[0m 14ms/step\n",
      "\u001b[1m4/4\u001b[0m \u001b[32m━━━━━━━━━━━━━━━━━━━━\u001b[0m\u001b[37m\u001b[0m \u001b[1m0s\u001b[0m 18ms/step\n",
      "\u001b[1m4/4\u001b[0m \u001b[32m━━━━━━━━━━━━━━━━━━━━\u001b[0m\u001b[37m\u001b[0m \u001b[1m0s\u001b[0m 14ms/step\n",
      "\u001b[1m4/4\u001b[0m \u001b[32m━━━━━━━━━━━━━━━━━━━━\u001b[0m\u001b[37m\u001b[0m \u001b[1m0s\u001b[0m 14ms/step\n",
      "\u001b[1m4/4\u001b[0m \u001b[32m━━━━━━━━━━━━━━━━━━━━\u001b[0m\u001b[37m\u001b[0m \u001b[1m0s\u001b[0m 14ms/step\n",
      "\u001b[1m4/4\u001b[0m \u001b[32m━━━━━━━━━━━━━━━━━━━━\u001b[0m\u001b[37m\u001b[0m \u001b[1m0s\u001b[0m 14ms/step\n",
      "\u001b[1m4/4\u001b[0m \u001b[32m━━━━━━━━━━━━━━━━━━━━\u001b[0m\u001b[37m\u001b[0m \u001b[1m0s\u001b[0m 14ms/step\n",
      "\u001b[1m4/4\u001b[0m \u001b[32m━━━━━━━━━━━━━━━━━━━━\u001b[0m\u001b[37m\u001b[0m \u001b[1m0s\u001b[0m 14ms/step\n",
      "Submission DataFrame preview:\n",
      "                                  row_id  normal_mild  moderate        severe\n",
      "0   44036939_spinal_canal_stenosis_l1_l2     0.532731  0.466966  3.037583e-04\n",
      "1   44036939_spinal_canal_stenosis_l1_l2     0.610096  0.367035  2.286868e-02\n",
      "2   44036939_spinal_canal_stenosis_l1_l2     0.129782  0.867603  2.614815e-03\n",
      "3   44036939_spinal_canal_stenosis_l1_l2     0.870905  0.118314  1.078178e-02\n",
      "4   44036939_spinal_canal_stenosis_l1_l2     0.007603  0.000011  9.923863e-01\n",
      "5   44036939_spinal_canal_stenosis_l1_l2     0.687261  0.029700  2.830381e-01\n",
      "6   44036939_spinal_canal_stenosis_l1_l2     0.033358  0.871812  9.482959e-02\n",
      "7   44036939_spinal_canal_stenosis_l1_l2     0.095427  0.869136  3.543733e-02\n",
      "8   44036939_spinal_canal_stenosis_l1_l2     0.969112  0.013356  1.753193e-02\n",
      "9   44036939_spinal_canal_stenosis_l1_l2     0.739681  0.256653  3.666486e-03\n",
      "10  44036939_spinal_canal_stenosis_l1_l2     0.014336  0.000110  9.855539e-01\n",
      "11  44036939_spinal_canal_stenosis_l1_l2     0.492216  0.475384  3.239976e-02\n",
      "12  44036939_spinal_canal_stenosis_l1_l2     0.019337  0.980658  5.297197e-06\n",
      "13  44036939_spinal_canal_stenosis_l1_l2     0.514253  0.000493  4.852539e-01\n",
      "14  44036939_spinal_canal_stenosis_l1_l2     0.112908  0.085415  8.016766e-01\n",
      "15  44036939_spinal_canal_stenosis_l1_l2     0.825740  0.008346  1.659139e-01\n",
      "16  44036939_spinal_canal_stenosis_l1_l2     0.000263  0.000055  9.996820e-01\n",
      "17  44036939_spinal_canal_stenosis_l1_l2     0.405796  0.113673  4.805310e-01\n",
      "18  44036939_spinal_canal_stenosis_l1_l2     0.001354  0.998646  3.469202e-07\n",
      "19  44036939_spinal_canal_stenosis_l1_l2     0.506784  0.478113  1.510333e-02\n"
     ]
    }
   ],
   "source": [
    "# Load the new CSV file with study descriptions\n",
    "df = pd.read_csv('/kaggle/input/rsna-2024-lumbar-spine-degenerative-classification/test_series_descriptions.csv')\n",
    "\n",
    "# Define conditions and levels\n",
    "CONDITIONS = [\n",
    "    'spinal_canal_stenosis', \n",
    "    'left_neural_foraminal_narrowing', \n",
    "    'right_neural_foraminal_narrowing',\n",
    "    'left_subarticular_stenosis',\n",
    "    'right_subarticular_stenosis'\n",
    "]\n",
    "LEVELS = [\n",
    "    'l1_l2',\n",
    "    'l2_l3',\n",
    "    'l3_l4',\n",
    "    'l4_l5',\n",
    "    'l5_s1',\n",
    "]\n",
    "\n",
    "\n",
    "def preprocess_image(img_path):\n",
    "    \"\"\"Preprocess an image for model prediction.\"\"\"\n",
    "    img = cv2.imread(img_path, cv2.IMREAD_COLOR)\n",
    "    if img is None:\n",
    "        return None\n",
    "    img_resized = cv2.resize(img, (320, 320))  # Resize\n",
    "    img_normalized = img_resized / 255.0  # Normalize\n",
    "    return img_normalized\n",
    "\n",
    "def get_image_paths(directory):\n",
    "    \"\"\"Retrieve all PNG image paths from a directory.\"\"\"\n",
    "    image_paths = []\n",
    "    for root, _, files in os.walk(directory):\n",
    "        for file in files:\n",
    "            if file.lower().endswith('.png'):\n",
    "                image_paths.append(os.path.join(root, file))\n",
    "    return image_paths\n",
    "\n",
    "def predict(img_paths):\n",
    "    \"\"\"Predict spinal condition severity for a list of images.\"\"\"\n",
    "    processed_images = [preprocess_image(path) for path in img_paths if preprocess_image(path) is not None]\n",
    "    if not processed_images:\n",
    "        return []\n",
    "    processed_images_array = np.array(processed_images)\n",
    "    predictions = model.predict(processed_images_array)\n",
    "    return predictions.tolist()  # Convert predictions to a list\n",
    "\n",
    "# Create a list to store the rows for the submission\n",
    "submission_data = []\n",
    "\n",
    "# Iterate through each unique study_id in the new CSV\n",
    "for study_id in df[\"study_id\"].unique():\n",
    "    for condition in CONDITIONS:\n",
    "        for level in LEVELS:\n",
    "            row_id = \"_\".join([str(study_id), condition, level])\n",
    "            image_dir = f\"/kaggle/working/RSNA_test_images_png/{study_id}\"\n",
    "            \n",
    "            if not os.path.exists(image_dir):\n",
    "                continue\n",
    "\n",
    "            image_paths = get_image_paths(image_dir)\n",
    "            if not image_paths:\n",
    "                continue\n",
    "            \n",
    "            # Get predictions for each image in the directory\n",
    "            preds = predict(image_paths)\n",
    "            \n",
    "            if preds:\n",
    "                # Add predictions to the list for each image\n",
    "                for pred in preds:\n",
    "                    submission_data.append([row_id, *pred])\n",
    "            else:\n",
    "                # Default values if no predictions are available\n",
    "                submission_data.append([row_id, 0, 0, 0])\n",
    "\n",
    "# Create the submission DataFrame with the correct columns\n",
    "submission_df = pd.DataFrame(submission_data, columns=[\"row_id\", \"normal_mild\", \"moderate\", \"severe\"])\n",
    "\n",
    "# Save to CSV\n",
    "submission_df.to_csv('submission1.csv', index=False)\n",
    "\n",
    "print(\"Submission DataFrame preview:\")\n",
    "print(submission_df.head(20))\n"
   ]
  }
 ],
 "metadata": {
  "kaggle": {
   "accelerator": "gpu",
   "dataSources": [
    {
     "databundleVersionId": 8561470,
     "sourceId": 71549,
     "sourceType": "competition"
    }
   ],
   "dockerImageVersionId": 30762,
   "isGpuEnabled": true,
   "isInternetEnabled": false,
   "language": "python",
   "sourceType": "notebook"
  },
  "kernelspec": {
   "display_name": "Python 3",
   "language": "python",
   "name": "python3"
  },
  "language_info": {
   "codemirror_mode": {
    "name": "ipython",
    "version": 3
   },
   "file_extension": ".py",
   "mimetype": "text/x-python",
   "name": "python",
   "nbconvert_exporter": "python",
   "pygments_lexer": "ipython3",
   "version": "3.10.14"
  },
  "papermill": {
   "default_parameters": {},
   "duration": 4287.242593,
   "end_time": "2024-09-12T12:47:08.750517",
   "environment_variables": {},
   "exception": null,
   "input_path": "__notebook__.ipynb",
   "output_path": "__notebook__.ipynb",
   "parameters": {},
   "start_time": "2024-09-12T11:35:41.507924",
   "version": "2.6.0"
  }
 },
 "nbformat": 4,
 "nbformat_minor": 5
}
